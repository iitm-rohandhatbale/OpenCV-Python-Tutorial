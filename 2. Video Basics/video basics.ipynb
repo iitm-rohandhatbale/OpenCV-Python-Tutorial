{
 "cells": [
  {
   "cell_type": "code",
   "execution_count": 1,
   "id": "851a44a6-1616-47e4-8e0e-b21ea34a915f",
   "metadata": {},
   "outputs": [],
   "source": [
    "# import all necessary libraries\n",
    "import cv2\n",
    "import os\n",
    "import matplotlib.pyplot as plt"
   ]
  },
  {
   "cell_type": "markdown",
   "id": "f0bf24d1-0ff9-44eb-ac26-dbcbdc575a86",
   "metadata": {},
   "source": [
    "# Webcam video "
   ]
  },
  {
   "cell_type": "code",
   "execution_count": null,
   "id": "1f2e2762-05ab-4b60-9e90-2c211ec549f8",
   "metadata": {},
   "outputs": [],
   "source": [
    "# create an instance for VideoCapture\n",
    "# index 0, 1, 2 passes for the webcam or any usb connected cameras\n",
    "\n",
    "cap = cv2.VideoCapture(0) # 0 is for webcam\n",
    "\n",
    "# check if camera is connected and opened successfully\n",
    "if cap.isOpened() == False:\n",
    "    print(\"Error ! Please check camera connection\")\n",
    "\n",
    "# read until video is complete or externally terminated\n",
    "while cap.isOpened():\n",
    "    \n",
    "    # capture video frame by frame\n",
    "    ret, frame = cap.read() # ret is status of reading frame. If ret == false, frame is not read\n",
    "    \n",
    "    # display the frame in window named \"Video\"\n",
    "    cv2.imshow(\"Video\", frame)\n",
    "    \n",
    "    # Press Q on keyboard to  exit\n",
    "    if cv2.waitKey(25) & 0xFF == ord('q'):\n",
    "        break\n",
    "    \n",
    "    else:\n",
    "        break\n",
    "        \n",
    "# When everything done, release \n",
    "# the video capture object\n",
    "cap.release()\n",
    "   \n",
    "# Closes all the frames\n",
    "cv2.destroyAllWindows()  \n",
    "    "
   ]
  },
  {
   "cell_type": "markdown",
   "id": "3b3ea28c-3fc2-4f9d-9ae6-22d489b1eb85",
   "metadata": {},
   "source": [
    "# Saving webcam video "
   ]
  },
  {
   "cell_type": "code",
   "execution_count": null,
   "id": "aa5cae73-a412-4cd2-9933-c5be5957891d",
   "metadata": {},
   "outputs": [],
   "source": [
    "# create an instance for VideoCapture\n",
    "# index 0, 1, 2 passes for the webcam or any usb connected cameras\n",
    "\n",
    "cap = cv2.VideoCapture(0) # 0 is for webcam\n",
    "\n",
    "# check if camera is connected and opened successfully\n",
    "if cap.isOpened() == False:\n",
    "    print(\"Error ! Please check camera connection\")\n",
    "    \n",
    "\n",
    "# get frame width and frame height\n",
    "frame_width = int(cap.get(3))\n",
    "frame_height = int(cap.get(4))\n",
    "\n",
    "size = (frame_width, frame_height)\n",
    "\n",
    "# declare the filename and fps of the video to be saved\n",
    "filename = \"capture.avi\"\n",
    "save_dir_path = \"data\"\n",
    "fps = 15\n",
    "\n",
    "# create an instance of videowriter\n",
    "writer = cv2.VideoWriter(filename, cv2.VideoWriter_fourcc(*'MJPG'), fps, size)\n",
    "\n",
    "# read until video is complete or externally terminated\n",
    "while cap.isOpened():\n",
    "    \n",
    "    # capture video frame by frame\n",
    "    ret, frame = cap.read() # ret is status of reading frame. If ret == false, frame is not read\n",
    "    \n",
    "    if ret == \"True\":\n",
    "        \n",
    "        # write the frame to vide using writer\n",
    "        writer.write(frame)\n",
    "        \n",
    "    \n",
    "    # Press Q on keyboard to  exit\n",
    "    if cv2.waitKey(1) & 0xFF == ord('q'):\n",
    "        break\n",
    "    \n",
    "    else:\n",
    "        break\n",
    "        \n",
    "# When everything done, release \n",
    "# the video capture object\n",
    "cap.release()\n",
    "   \n",
    "# Closes all the frames\n",
    "cv2.destroyAllWindows()  \n",
    "    "
   ]
  },
  {
   "cell_type": "code",
   "execution_count": null,
   "id": "d85c1144-5c81-4218-8ef5-d8afb0b6001e",
   "metadata": {},
   "outputs": [],
   "source": []
  },
  {
   "cell_type": "markdown",
   "id": "a8a91e09-3520-4c9c-88b3-015c0f15024d",
   "metadata": {},
   "source": [
    "# Read Video file"
   ]
  },
  {
   "cell_type": "code",
   "execution_count": null,
   "id": "71a954c6-6d5b-41ea-b078-f8670ca1c303",
   "metadata": {},
   "outputs": [],
   "source": [
    "# create an instance for VideoCapture\n",
    "\n",
    "cap = cv2.VideoCapture(\"data/sample.mp4\") \n",
    "\n",
    "# check if camera is connected and opened successfully\n",
    "if cap.isOpened() == False:\n",
    "    print(\"Error ! Please check camera connection\")\n",
    "\n",
    "# read until video is complete or externally terminated\n",
    "while cap.isOpened():\n",
    "    \n",
    "    # capture video frame by frame\n",
    "    ret, frame = cap.read() # ret is status of reading frame. If ret == false, frame is not read\n",
    "    \n",
    "    # display the frame in window named \"Video\"\n",
    "    cv2.imshow(\"Video\", frame)\n",
    "    \n",
    "    # Press Q on keyboard to  exit\n",
    "    if cv2.waitKey(25) & 0xFF == ord('q'):\n",
    "        break\n",
    "    \n",
    "    else:\n",
    "        break\n",
    "        \n",
    "# When everything done, release \n",
    "# the video capture object\n",
    "cap.release()\n",
    "   \n",
    "# Closes all the frames\n",
    "cv2.destroyAllWindows()"
   ]
  },
  {
   "cell_type": "markdown",
   "id": "cfb57abb-5255-459f-91fb-17a6fae035c5",
   "metadata": {},
   "source": [
    "# Extract Video meta-data"
   ]
  },
  {
   "cell_type": "code",
   "execution_count": 7,
   "id": "b7919bb2-97b7-4310-9710-541f6a733e22",
   "metadata": {},
   "outputs": [
    {
     "name": "stdout",
     "output_type": "stream",
     "text": [
      "frames/sec for the video is:  15.0\n",
      "Number of frames in the video are:  1889.0\n",
      "frame width: 320.0, frame height: 240.0\n"
     ]
    }
   ],
   "source": [
    "# create an instance for VideoCapture\n",
    "cap = cv2.VideoCapture(\"data/sample.mp4\") \n",
    "\n",
    "# FPS of the video\n",
    "fps = cap.get(cv2.CAP_PROP_FPS)\n",
    "print(\"frames/sec for the video is: \", fps)\n",
    "\n",
    "# Frame count of the video\n",
    "frame_count = cap.get(cv2.CAP_PROP_FRAME_COUNT)\n",
    "print(\"Number of frames in the video are: \", frame_count)\n",
    "\n",
    "# Frame width and height of the video\n",
    "frame_width = cap.get(cv2.CAP_PROP_FRAME_WIDTH)\n",
    "frame_height = cap.get(cv2.CAP_PROP_FRAME_HEIGHT)\n",
    "print(f\"frame width: {frame_width}, frame height: {frame_height}\")"
   ]
  },
  {
   "cell_type": "markdown",
   "id": "1ed19b65-27b7-4593-afdc-0392b5476fae",
   "metadata": {},
   "source": [
    "# Extract Video Frames"
   ]
  },
  {
   "cell_type": "code",
   "execution_count": 2,
   "id": "9a8d6660-0f6b-4e6e-bc7f-388cbe05fedc",
   "metadata": {},
   "outputs": [],
   "source": [
    "# create an instance for VideoCapture\n",
    "\n",
    "cap = cv2.VideoCapture(\"data/sample.mp4\") \n",
    "\n",
    "# check if camera is connected and opened successfully\n",
    "if cap.isOpened() == False:\n",
    "    print(\"Error ! Please check camera connection\")\n",
    "\n",
    "\n",
    "# initialize count and declare frame saving frequency\n",
    "count = 0\n",
    "frame_save_frequency = 10\n",
    "frame_save_dir_path = \"data/extracted_frames/\"\n",
    "\n",
    "# read until video is complete or externally terminated\n",
    "while cap.isOpened():\n",
    "    \n",
    "    # capture video frame by frame\n",
    "    ret, frame = cap.read() # ret is status of reading frame. If ret == false, frame is not read\n",
    "    \n",
    "    if ret == True:\n",
    "        if count%frame_save_frequency == 0:\n",
    "            try:\n",
    "                # give different name for each frame otherwise frames will be overwritten.\n",
    "                fname = f\"frame{count}.jpg\"\n",
    "                # save the corresponding frame\n",
    "                cv2.imwrite(os.path.join(frame_save_dir_path, fname), frame)\n",
    "            except Exception as e:\n",
    "                pass\n",
    "        count+=1\n",
    "    else:\n",
    "        break\n",
    "\n",
    "    \n",
    "    \n",
    "    \n",
    "\n",
    "        \n",
    "# When everything done, release \n",
    "# the video capture object\n",
    "cap.release()\n",
    "   \n",
    "# Closes all the frames\n",
    "cv2.destroyAllWindows()"
   ]
  },
  {
   "cell_type": "code",
   "execution_count": null,
   "id": "d2898804-37c5-4b1d-93bf-d3812ab05a5c",
   "metadata": {},
   "outputs": [],
   "source": []
  }
 ],
 "metadata": {
  "kernelspec": {
   "display_name": "Python 3",
   "language": "python",
   "name": "python3"
  },
  "language_info": {
   "codemirror_mode": {
    "name": "ipython",
    "version": 3
   },
   "file_extension": ".py",
   "mimetype": "text/x-python",
   "name": "python",
   "nbconvert_exporter": "python",
   "pygments_lexer": "ipython3",
   "version": "3.9.1"
  },
  "widgets": {
   "application/vnd.jupyter.widget-state+json": {
    "state": {},
    "version_major": 2,
    "version_minor": 0
   }
  }
 },
 "nbformat": 4,
 "nbformat_minor": 5
}
